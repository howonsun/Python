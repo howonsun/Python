{
 "cells": [
  {
   "cell_type": "code",
   "execution_count": 1,
   "metadata": {},
   "outputs": [
    {
     "name": "stdout",
     "output_type": "stream",
     "text": [
      "   PROCESS         TASK_CODE                              TASK_NAME COVERAGE  \\\n",
      "0  DECLINE  BGTC-B-210222-01             바르게 살기 위원회 월간회의 개최_DECLINE   동 주민센터   \n",
      "1       완료  BGTC-B-210222-02  직능단체 연락처 통합 정리 및 메시지 발송 폼 작성_COMPLETE   동 주민센터   \n",
      "2       완료  CDTC-B-210222-02      민방위 편성 자원 전체 통합 관리 파일 작성_COMPLETE   동 주민센터   \n",
      "3       완료  GTCH-S-210223-02    서울시장 보궐선거 선거인명부 확인 및 구청 방문_COMPLETE      서울시   \n",
      "4       완료  GTCH-S-210223-03              주민센터 4층에서 공보물 작업_COMPLETE      서울시   \n",
      "\n",
      "        PRIORITY   DUE DATE CTG_1  CTG_2  CTG_3 NAME   TEL             HP ETC  \\\n",
      "0       Not Busy 2021-02-23   은평구   주민센터    대조동  선호원  5184  010-3304-0269       \n",
      "1       Not Busy 2021-02-23   은평구   주민센터    대조동  선호원  5184  010-3304-0269       \n",
      "2       Not Busy 2021-02-26   은평구  행정안전국  자치안전과  선호원  5184  010-3304-0269       \n",
      "3  Prior Concern 2021-03-20   은평구  구청 직할  의회사무국  선관위     -              -       \n",
      "4  Prior Concern 2021-03-27   은평구  구청 직할  의회사무국  선관위     -              -       \n",
      "\n",
      "  OFFICIAL_DOCS_NO         RECORD_TIME  \n",
      "0                  2021-02-22 16:43:22  \n",
      "1                  2021-02-22 16:50:22  \n",
      "2                  2021-02-22 17:30:02  \n",
      "3                  2021-02-23 11:22:45  \n",
      "4                  2021-02-23 11:24:28  \n",
      "Index(['PROCESS', 'TASK_CODE', 'TASK_NAME', 'COVERAGE', 'PRIORITY', 'DUE DATE',\n",
      "       'CTG_1', 'CTG_2', 'CTG_3', 'NAME', 'TEL', 'HP', 'ETC',\n",
      "       'OFFICIAL_DOCS_NO', 'RECORD_TIME'],\n",
      "      dtype='object')\n"
     ]
    }
   ],
   "source": [
    "import pandas as pd\n",
    "\n",
    "df = pd.read_excel('data/maintask.xlsx')\n",
    "df_dt = pd.read_excel('data/date_std.xlsx')\n",
    "df.fillna('', inplace=True)\n",
    "print(df.head(5))\n",
    "print(df.columns)"
   ]
  },
  {
   "cell_type": "code",
   "execution_count": 2,
   "metadata": {},
   "outputs": [
    {
     "name": "stdout",
     "output_type": "stream",
     "text": [
      "COMPLETE    548\n",
      "DECLINE      96\n",
      "ON_GOING      4\n",
      "Name: PROCESS, dtype: int64\n",
      "(648, 15)\n"
     ]
    }
   ],
   "source": [
    "df.loc[df['PROCESS'] == '완료', 'PROCESS'] = 'COMPLETE'\n",
    "df.loc[df['PROCESS'] == '진행중', 'PROCESS'] = 'ON_GOING'\n",
    "print(df['PROCESS'].value_counts())\n",
    "print(df.shape)"
   ]
  },
  {
   "cell_type": "code",
   "execution_count": 3,
   "metadata": {},
   "outputs": [
    {
     "name": "stdout",
     "output_type": "stream",
     "text": [
      "Index(['DATE', 'YEAR', 'WEEK_NO', 'YEAR_WN', 'WN_SERIAL NO', 'STD_CODE',\n",
      "       'YEAR-MONTH_WN', 'YEAR-MONTH_WN_CODE', 'WEEK_DAY', 'MONTH', 'DAY',\n",
      "       'YEAR-MONTH'],\n",
      "      dtype='object')\n"
     ]
    }
   ],
   "source": [
    "print(df_dt.columns)"
   ]
  },
  {
   "cell_type": "code",
   "execution_count": 4,
   "metadata": {},
   "outputs": [
    {
     "name": "stdout",
     "output_type": "stream",
     "text": [
      "    PROCESS         TASK_CODE                              TASK_NAME COVERAGE  \\\n",
      "0   DECLINE  BGTC-B-210222-01             바르게 살기 위원회 월간회의 개최_DECLINE   동 주민센터   \n",
      "1  COMPLETE  BGTC-B-210222-02  직능단체 연락처 통합 정리 및 메시지 발송 폼 작성_COMPLETE   동 주민센터   \n",
      "2  COMPLETE  CDTC-B-210222-02      민방위 편성 자원 전체 통합 관리 파일 작성_COMPLETE   동 주민센터   \n",
      "3  COMPLETE  GTTC-A-210223-05                  복지행정팀 매식비 취합_COMPLETE   동 주민센터   \n",
      "4  COMPLETE  GTCH-S-210223-02    서울시장 보궐선거 선거인명부 확인 및 구청 방문_COMPLETE      서울시   \n",
      "\n",
      "        PRIORITY   DUE DATE CTG_1  CTG_2  CTG_3 NAME  ... WEEK_NO  YEAR_WN  \\\n",
      "0       Not Busy 2021-02-23   은평구   주민센터    대조동  선호원  ...       9  2021_09   \n",
      "1       Not Busy 2021-02-23   은평구   주민센터    대조동  선호원  ...       9  2021_09   \n",
      "2       Not Busy 2021-02-26   은평구  행정안전국  자치안전과  선호원  ...       9  2021_09   \n",
      "3           ASAP 2021-02-26   은평구   주민센터    대조동  선호원  ...       9  2021_09   \n",
      "4  Prior Concern 2021-03-20   은평구  구청 직할  의회사무국  선관위  ...      12  2021_12   \n",
      "\n",
      "  WN_SERIAL NO STD_CODE YEAR-MONTH_WN YEAR-MONTH_WN_CODE  WEEK_DAY  MONTH DAY  \\\n",
      "0          327    327_3             4         2021-02_04         3      2  23   \n",
      "1          327    327_3             4         2021-02_04         3      2  23   \n",
      "2          327    327_6             4         2021-02_04         6      2  26   \n",
      "3          327    327_6             4         2021-02_04         6      2  26   \n",
      "4          330    330_7             3         2021-03_03         7      3  20   \n",
      "\n",
      "   YEAR-MONTH  \n",
      "0     2021-02  \n",
      "1     2021-02  \n",
      "2     2021-02  \n",
      "3     2021-02  \n",
      "4     2021-03  \n",
      "\n",
      "[5 rows x 27 columns]\n"
     ]
    }
   ],
   "source": [
    "df_db = df.merge(df_dt,left_on='DUE DATE',right_on='DATE')\n",
    "print(df_db.head(5))"
   ]
  },
  {
   "cell_type": "code",
   "execution_count": 5,
   "metadata": {},
   "outputs": [
    {
     "name": "stdout",
     "output_type": "stream",
     "text": [
      "Index(['PROCESS', 'TASK_CODE', 'TASK_NAME', 'COVERAGE', 'PRIORITY', 'DUE DATE',\n",
      "       'CTG_1', 'CTG_2', 'CTG_3', 'NAME', 'TEL', 'HP', 'ETC',\n",
      "       'OFFICIAL_DOCS_NO', 'RECORD_TIME', 'DATE', 'YEAR', 'WEEK_NO', 'YEAR_WN',\n",
      "       'WN_SERIAL NO', 'STD_CODE', 'YEAR-MONTH_WN', 'YEAR-MONTH_WN_CODE',\n",
      "       'WEEK_DAY', 'MONTH', 'DAY', 'YEAR-MONTH'],\n",
      "      dtype='object')\n"
     ]
    }
   ],
   "source": [
    "print(df_db.columns)"
   ]
  },
  {
   "cell_type": "code",
   "execution_count": 40,
   "metadata": {},
   "outputs": [
    {
     "name": "stdout",
     "output_type": "stream",
     "text": [
      "                 TASK_CODE                                TASK_NAME\n",
      "STD_CODE                                                           \n",
      "420_2     GMDO-A-221109-03                      바르게 살기 위원회 11월 정기회의\n",
      "420_2     GMDO-A-221111-01  가을철 낙엽으로 인한 빗물받이 막힘사고 예방 실적 제출_COMPLETE\n",
      "420_2     GMDO-A-221122-02           빗물받이 주변 낙엽 제거 추진실적 제출_DECLINED\n",
      "420_2     GMDO-A-221124-01           수해예방 주민 서포터즈 활동 일지 제출_COMPLETE\n",
      "Nov 28\n"
     ]
    }
   ],
   "source": [
    "from datetime import datetime\n",
    "wn = 420\n",
    "wk_no = 2\n",
    "\n",
    "dfx = df_db.loc[(df_db['WN_SERIAL NO']==wn) & (df_db['WEEK_DAY']==wk_no)][['TASK_CODE','TASK_NAME','STD_CODE']]\n",
    "dfx.index=dfx['STD_CODE']\n",
    "#print(dfx.columns.get_loc('STD_CODE'))\n",
    "dfx = dfx.drop(columns=['STD_CODE'])\n",
    "date = df_dt.loc[(df_dt['WN_SERIAL NO']==wn) & (df_dt['WEEK_DAY']==wk_no)][['DATE']]\n",
    "dt = date.iloc[0,0]\n",
    "dt = dt.strftime('%b %d')\n",
    "print(dfx)\n",
    "print(dt)"
   ]
  },
  {
   "cell_type": "code",
   "execution_count": 49,
   "metadata": {},
   "outputs": [
    {
     "name": "stdout",
     "output_type": "stream",
     "text": [
      "['Nov 27', 'Nov 28', 'Nov 29', 'Nov 30', 'Dec 01', 'Dec 02', 'Dec 03']\n"
     ]
    },
    {
     "ename": "KeyboardInterrupt",
     "evalue": "",
     "output_type": "error",
     "traceback": [
      "\u001b[1;31m---------------------------------------------------------------------------\u001b[0m",
      "\u001b[1;31mKeyboardInterrupt\u001b[0m                         Traceback (most recent call last)",
      "\u001b[1;32mc:\\Bitnami\\wampstack-8.1.11-0\\apache2\\htdocs\\PJT_workstation\\code_test.ipynb 셀 7\u001b[0m in \u001b[0;36m<cell line: 10>\u001b[1;34m()\u001b[0m\n\u001b[0;32m      <a href='vscode-notebook-cell:/c%3A/Bitnami/wampstack-8.1.11-0/apache2/htdocs/PJT_workstation/code_test.ipynb#X21sZmlsZQ%3D%3D?line=8'>9</a>\u001b[0m dd \u001b[39m=\u001b[39m pd\u001b[39m.\u001b[39mDataFrame(columns\u001b[39m=\u001b[39mdt_list)\n\u001b[0;32m     <a href='vscode-notebook-cell:/c%3A/Bitnami/wampstack-8.1.11-0/apache2/htdocs/PJT_workstation/code_test.ipynb#X21sZmlsZQ%3D%3D?line=9'>10</a>\u001b[0m \u001b[39mwhile\u001b[39;00m wk_no \u001b[39m<\u001b[39m \u001b[39m8\u001b[39m:\n\u001b[1;32m---> <a href='vscode-notebook-cell:/c%3A/Bitnami/wampstack-8.1.11-0/apache2/htdocs/PJT_workstation/code_test.ipynb#X21sZmlsZQ%3D%3D?line=10'>11</a>\u001b[0m     date \u001b[39m=\u001b[39m df_dt\u001b[39m.\u001b[39mloc[(df_dt[\u001b[39m'\u001b[39;49m\u001b[39mWN_SERIAL NO\u001b[39;49m\u001b[39m'\u001b[39;49m]\u001b[39m==\u001b[39;49mwn) \u001b[39m&\u001b[39m (df_dt[\u001b[39m'\u001b[39m\u001b[39mWEEK_DAY\u001b[39m\u001b[39m'\u001b[39m]\u001b[39m==\u001b[39mwk_no)][[\u001b[39m'\u001b[39m\u001b[39mDATE\u001b[39m\u001b[39m'\u001b[39m]]\n\u001b[0;32m     <a href='vscode-notebook-cell:/c%3A/Bitnami/wampstack-8.1.11-0/apache2/htdocs/PJT_workstation/code_test.ipynb#X21sZmlsZQ%3D%3D?line=11'>12</a>\u001b[0m     ds \u001b[39m=\u001b[39m date\u001b[39m.\u001b[39miloc[\u001b[39m0\u001b[39m,\u001b[39m0\u001b[39m]\u001b[39m.\u001b[39mstrftime(\u001b[39m'\u001b[39m\u001b[39m%\u001b[39m\u001b[39mb \u001b[39m\u001b[39m%d\u001b[39;00m\u001b[39m'\u001b[39m)\n\u001b[0;32m     <a href='vscode-notebook-cell:/c%3A/Bitnami/wampstack-8.1.11-0/apache2/htdocs/PJT_workstation/code_test.ipynb#X21sZmlsZQ%3D%3D?line=12'>13</a>\u001b[0m     dfx \u001b[39m=\u001b[39m df_db\u001b[39m.\u001b[39mloc[(df_db[\u001b[39m'\u001b[39m\u001b[39mWN_SERIAL NO\u001b[39m\u001b[39m'\u001b[39m]\u001b[39m==\u001b[39mwn) \u001b[39m&\u001b[39m (df_db[\u001b[39m'\u001b[39m\u001b[39mWEEK_DAY\u001b[39m\u001b[39m'\u001b[39m]\u001b[39m==\u001b[39mwk_no)][[\u001b[39m'\u001b[39m\u001b[39mTASK_CODE\u001b[39m\u001b[39m'\u001b[39m]]\n",
      "File \u001b[1;32mc:\\Users\\user\\AppData\\Local\\Programs\\Python\\Python310\\lib\\site-packages\\pandas\\core\\ops\\common.py:72\u001b[0m, in \u001b[0;36m_unpack_zerodim_and_defer.<locals>.new_method\u001b[1;34m(self, other)\u001b[0m\n\u001b[0;32m     68\u001b[0m             \u001b[39mreturn\u001b[39;00m \u001b[39mNotImplemented\u001b[39m\n\u001b[0;32m     70\u001b[0m other \u001b[39m=\u001b[39m item_from_zerodim(other)\n\u001b[1;32m---> 72\u001b[0m \u001b[39mreturn\u001b[39;00m method(\u001b[39mself\u001b[39;49m, other)\n",
      "File \u001b[1;32mc:\\Users\\user\\AppData\\Local\\Programs\\Python\\Python310\\lib\\site-packages\\pandas\\core\\arraylike.py:43\u001b[0m, in \u001b[0;36mOpsMixin.__eq__\u001b[1;34m(self, other)\u001b[0m\n\u001b[0;32m     41\u001b[0m \u001b[39m@unpack_zerodim_and_defer\u001b[39m(\u001b[39m\"\u001b[39m\u001b[39m__eq__\u001b[39m\u001b[39m\"\u001b[39m)\n\u001b[0;32m     42\u001b[0m \u001b[39mdef\u001b[39;00m \u001b[39m__eq__\u001b[39m(\u001b[39mself\u001b[39m, other):\n\u001b[1;32m---> 43\u001b[0m     \u001b[39mreturn\u001b[39;00m \u001b[39mself\u001b[39;49m\u001b[39m.\u001b[39;49m_cmp_method(other, operator\u001b[39m.\u001b[39;49meq)\n",
      "File \u001b[1;32mc:\\Users\\user\\AppData\\Local\\Programs\\Python\\Python310\\lib\\site-packages\\pandas\\core\\series.py:6246\u001b[0m, in \u001b[0;36mSeries._cmp_method\u001b[1;34m(self, other, op)\u001b[0m\n\u001b[0;32m   6243\u001b[0m rvalues \u001b[39m=\u001b[39m extract_array(other, extract_numpy\u001b[39m=\u001b[39m\u001b[39mTrue\u001b[39;00m, extract_range\u001b[39m=\u001b[39m\u001b[39mTrue\u001b[39;00m)\n\u001b[0;32m   6245\u001b[0m \u001b[39mwith\u001b[39;00m np\u001b[39m.\u001b[39merrstate(\u001b[39mall\u001b[39m\u001b[39m=\u001b[39m\u001b[39m\"\u001b[39m\u001b[39mignore\u001b[39m\u001b[39m\"\u001b[39m):\n\u001b[1;32m-> 6246\u001b[0m     res_values \u001b[39m=\u001b[39m ops\u001b[39m.\u001b[39;49mcomparison_op(lvalues, rvalues, op)\n\u001b[0;32m   6248\u001b[0m \u001b[39mreturn\u001b[39;00m \u001b[39mself\u001b[39m\u001b[39m.\u001b[39m_construct_result(res_values, name\u001b[39m=\u001b[39mres_name)\n",
      "File \u001b[1;32mc:\\Users\\user\\AppData\\Local\\Programs\\Python\\Python310\\lib\\site-packages\\pandas\\core\\ops\\array_ops.py:290\u001b[0m, in \u001b[0;36mcomparison_op\u001b[1;34m(left, right, op)\u001b[0m\n\u001b[0;32m    287\u001b[0m     res_values \u001b[39m=\u001b[39m comp_method_OBJECT_ARRAY(op, lvalues, rvalues)\n\u001b[0;32m    289\u001b[0m \u001b[39melse\u001b[39;00m:\n\u001b[1;32m--> 290\u001b[0m     res_values \u001b[39m=\u001b[39m _na_arithmetic_op(lvalues, rvalues, op, is_cmp\u001b[39m=\u001b[39;49m\u001b[39mTrue\u001b[39;49;00m)\n\u001b[0;32m    292\u001b[0m \u001b[39mreturn\u001b[39;00m res_values\n",
      "File \u001b[1;32mc:\\Users\\user\\AppData\\Local\\Programs\\Python\\Python310\\lib\\site-packages\\pandas\\core\\ops\\array_ops.py:165\u001b[0m, in \u001b[0;36m_na_arithmetic_op\u001b[1;34m(left, right, op, is_cmp)\u001b[0m\n\u001b[0;32m    162\u001b[0m     func \u001b[39m=\u001b[39m partial(expressions\u001b[39m.\u001b[39mevaluate, op)\n\u001b[0;32m    164\u001b[0m \u001b[39mtry\u001b[39;00m:\n\u001b[1;32m--> 165\u001b[0m     result \u001b[39m=\u001b[39m func(left, right)\n\u001b[0;32m    166\u001b[0m \u001b[39mexcept\u001b[39;00m \u001b[39mTypeError\u001b[39;00m:\n\u001b[0;32m    167\u001b[0m     \u001b[39mif\u001b[39;00m \u001b[39mnot\u001b[39;00m is_cmp \u001b[39mand\u001b[39;00m (is_object_dtype(left\u001b[39m.\u001b[39mdtype) \u001b[39mor\u001b[39;00m is_object_dtype(right)):\n\u001b[0;32m    168\u001b[0m         \u001b[39m# For object dtype, fallback to a masked operation (only operating\u001b[39;00m\n\u001b[0;32m    169\u001b[0m         \u001b[39m#  on the non-missing values)\u001b[39;00m\n\u001b[0;32m    170\u001b[0m         \u001b[39m# Don't do this for comparisons, as that will handle complex numbers\u001b[39;00m\n\u001b[0;32m    171\u001b[0m         \u001b[39m#  incorrectly, see GH#32047\u001b[39;00m\n",
      "File \u001b[1;32mc:\\Users\\user\\AppData\\Local\\Programs\\Python\\Python310\\lib\\site-packages\\pandas\\core\\computation\\expressions.py:242\u001b[0m, in \u001b[0;36mevaluate\u001b[1;34m(op, a, b, use_numexpr)\u001b[0m\n\u001b[0;32m    239\u001b[0m \u001b[39mif\u001b[39;00m op_str \u001b[39mis\u001b[39;00m \u001b[39mnot\u001b[39;00m \u001b[39mNone\u001b[39;00m:\n\u001b[0;32m    240\u001b[0m     \u001b[39mif\u001b[39;00m use_numexpr:\n\u001b[0;32m    241\u001b[0m         \u001b[39m# error: \"None\" not callable\u001b[39;00m\n\u001b[1;32m--> 242\u001b[0m         \u001b[39mreturn\u001b[39;00m _evaluate(op, op_str, a, b)  \u001b[39m# type: ignore[misc]\u001b[39;00m\n\u001b[0;32m    243\u001b[0m \u001b[39mreturn\u001b[39;00m _evaluate_standard(op, op_str, a, b)\n",
      "File \u001b[1;32mc:\\Users\\user\\AppData\\Local\\Programs\\Python\\Python310\\lib\\site-packages\\pandas\\core\\computation\\expressions.py:71\u001b[0m, in \u001b[0;36m_evaluate_standard\u001b[1;34m(op, op_str, a, b)\u001b[0m\n\u001b[0;32m     69\u001b[0m \u001b[39mif\u001b[39;00m _TEST_MODE:\n\u001b[0;32m     70\u001b[0m     _store_test_result(\u001b[39mFalse\u001b[39;00m)\n\u001b[1;32m---> 71\u001b[0m \u001b[39mreturn\u001b[39;00m op(a, b)\n",
      "\u001b[1;31mKeyboardInterrupt\u001b[0m: "
     ]
    }
   ],
   "source": [
    "from datetime import datetime\n",
    "wn = 420\n",
    "wk_no = 1\n",
    "dt_list = []\n",
    "for wk_no in range(1,8):\n",
    "    date = df_dt.loc[(df_dt['WN_SERIAL NO']==wn) & (df_dt['WEEK_DAY']==wk_no)][['DATE']]\n",
    "    dt_list.append(date.iloc[0,0].strftime('%b %d'))\n",
    "print(dt_list)\n",
    "dd = pd.DataFrame(columns=dt_list)\n",
    "while wk_no < 8:\n",
    "    date = df_dt.loc[(df_dt['WN_SERIAL NO']==wn) & (df_dt['WEEK_DAY']==wk_no)][['DATE']]\n",
    "    ds = date.iloc[0,0].strftime('%b %d')\n",
    "    dfx = df_db.loc[(df_db['WN_SERIAL NO']==wn) & (df_db['WEEK_DAY']==wk_no)][['TASK_CODE']]\n",
    "    if dfx.empty:\n",
    "        continue\n",
    "    else:\n",
    "        dd[ds] = dfx\n",
    "\n",
    "    wk_no = wk_no + 1\n",
    "\n",
    "\n",
    "print(dd)"
   ]
  },
  {
   "cell_type": "code",
   "execution_count": 48,
   "metadata": {},
   "outputs": [
    {
     "name": "stdout",
     "output_type": "stream",
     "text": [
      "Empty DataFrame\n",
      "Columns: [Nov 27, Nov 28, Nov 29, Nov 30, Dec 01, Dec 02, Dec 03]\n",
      "Index: []\n"
     ]
    },
    {
     "name": "stderr",
     "output_type": "stream",
     "text": [
      "C:\\Users\\user\\AppData\\Local\\Temp\\ipykernel_19028\\3193906851.py:4: FutureWarning: The frame.append method is deprecated and will be removed from pandas in a future version. Use pandas.concat instead.\n",
      "  dd.append(r)\n"
     ]
    },
    {
     "ename": "TypeError",
     "evalue": "cannot concatenate object of type '<class 'int'>'; only Series and DataFrame objs are valid",
     "output_type": "error",
     "traceback": [
      "\u001b[1;31m---------------------------------------------------------------------------\u001b[0m",
      "\u001b[1;31mTypeError\u001b[0m                                 Traceback (most recent call last)",
      "\u001b[1;32mc:\\Bitnami\\wampstack-8.1.11-0\\apache2\\htdocs\\PJT_workstation\\code_test.ipynb 셀 8\u001b[0m in \u001b[0;36m<cell line: 3>\u001b[1;34m()\u001b[0m\n\u001b[0;32m      <a href='vscode-notebook-cell:/c%3A/Bitnami/wampstack-8.1.11-0/apache2/htdocs/PJT_workstation/code_test.ipynb#X22sZmlsZQ%3D%3D?line=1'>2</a>\u001b[0m \u001b[39mprint\u001b[39m(dd)\n\u001b[0;32m      <a href='vscode-notebook-cell:/c%3A/Bitnami/wampstack-8.1.11-0/apache2/htdocs/PJT_workstation/code_test.ipynb#X22sZmlsZQ%3D%3D?line=2'>3</a>\u001b[0m \u001b[39mfor\u001b[39;00m r \u001b[39min\u001b[39;00m \u001b[39mrange\u001b[39m(\u001b[39m6\u001b[39m):\n\u001b[1;32m----> <a href='vscode-notebook-cell:/c%3A/Bitnami/wampstack-8.1.11-0/apache2/htdocs/PJT_workstation/code_test.ipynb#X22sZmlsZQ%3D%3D?line=3'>4</a>\u001b[0m     dd\u001b[39m.\u001b[39;49mappend(r)\n\u001b[0;32m      <a href='vscode-notebook-cell:/c%3A/Bitnami/wampstack-8.1.11-0/apache2/htdocs/PJT_workstation/code_test.ipynb#X22sZmlsZQ%3D%3D?line=4'>5</a>\u001b[0m \u001b[39mprint\u001b[39m(dd)\n",
      "File \u001b[1;32mc:\\Users\\user\\AppData\\Local\\Programs\\Python\\Python310\\lib\\site-packages\\pandas\\core\\frame.py:9758\u001b[0m, in \u001b[0;36mDataFrame.append\u001b[1;34m(self, other, ignore_index, verify_integrity, sort)\u001b[0m\n\u001b[0;32m   9655\u001b[0m \u001b[39m\"\"\"\u001b[39;00m\n\u001b[0;32m   9656\u001b[0m \u001b[39mAppend rows of `other` to the end of caller, returning a new object.\u001b[39;00m\n\u001b[0;32m   9657\u001b[0m \n\u001b[1;32m   (...)\u001b[0m\n\u001b[0;32m   9748\u001b[0m \u001b[39m4  4\u001b[39;00m\n\u001b[0;32m   9749\u001b[0m \u001b[39m\"\"\"\u001b[39;00m\n\u001b[0;32m   9750\u001b[0m warnings\u001b[39m.\u001b[39mwarn(\n\u001b[0;32m   9751\u001b[0m     \u001b[39m\"\u001b[39m\u001b[39mThe frame.append method is deprecated \u001b[39m\u001b[39m\"\u001b[39m\n\u001b[0;32m   9752\u001b[0m     \u001b[39m\"\u001b[39m\u001b[39mand will be removed from pandas in a future version. \u001b[39m\u001b[39m\"\u001b[39m\n\u001b[1;32m   (...)\u001b[0m\n\u001b[0;32m   9755\u001b[0m     stacklevel\u001b[39m=\u001b[39mfind_stack_level(inspect\u001b[39m.\u001b[39mcurrentframe()),\n\u001b[0;32m   9756\u001b[0m )\n\u001b[1;32m-> 9758\u001b[0m \u001b[39mreturn\u001b[39;00m \u001b[39mself\u001b[39;49m\u001b[39m.\u001b[39;49m_append(other, ignore_index, verify_integrity, sort)\n",
      "File \u001b[1;32mc:\\Users\\user\\AppData\\Local\\Programs\\Python\\Python310\\lib\\site-packages\\pandas\\core\\frame.py:9798\u001b[0m, in \u001b[0;36mDataFrame._append\u001b[1;34m(self, other, ignore_index, verify_integrity, sort)\u001b[0m\n\u001b[0;32m   9795\u001b[0m \u001b[39melse\u001b[39;00m:\n\u001b[0;32m   9796\u001b[0m     to_concat \u001b[39m=\u001b[39m [\u001b[39mself\u001b[39m, other]\n\u001b[1;32m-> 9798\u001b[0m result \u001b[39m=\u001b[39m concat(\n\u001b[0;32m   9799\u001b[0m     to_concat,\n\u001b[0;32m   9800\u001b[0m     ignore_index\u001b[39m=\u001b[39;49mignore_index,\n\u001b[0;32m   9801\u001b[0m     verify_integrity\u001b[39m=\u001b[39;49mverify_integrity,\n\u001b[0;32m   9802\u001b[0m     sort\u001b[39m=\u001b[39;49msort,\n\u001b[0;32m   9803\u001b[0m )\n\u001b[0;32m   9804\u001b[0m \u001b[39mreturn\u001b[39;00m result\u001b[39m.\u001b[39m__finalize__(\u001b[39mself\u001b[39m, method\u001b[39m=\u001b[39m\u001b[39m\"\u001b[39m\u001b[39mappend\u001b[39m\u001b[39m\"\u001b[39m)\n",
      "File \u001b[1;32mc:\\Users\\user\\AppData\\Local\\Programs\\Python\\Python310\\lib\\site-packages\\pandas\\util\\_decorators.py:317\u001b[0m, in \u001b[0;36mdeprecate_nonkeyword_arguments.<locals>.decorate.<locals>.wrapper\u001b[1;34m(*args, **kwargs)\u001b[0m\n\u001b[0;32m    311\u001b[0m \u001b[39mif\u001b[39;00m \u001b[39mlen\u001b[39m(args) \u001b[39m>\u001b[39m num_allow_args:\n\u001b[0;32m    312\u001b[0m     warnings\u001b[39m.\u001b[39mwarn(\n\u001b[0;32m    313\u001b[0m         msg\u001b[39m.\u001b[39mformat(arguments\u001b[39m=\u001b[39marguments),\n\u001b[0;32m    314\u001b[0m         \u001b[39mFutureWarning\u001b[39;00m,\n\u001b[0;32m    315\u001b[0m         stacklevel\u001b[39m=\u001b[39mfind_stack_level(inspect\u001b[39m.\u001b[39mcurrentframe()),\n\u001b[0;32m    316\u001b[0m     )\n\u001b[1;32m--> 317\u001b[0m \u001b[39mreturn\u001b[39;00m func(\u001b[39m*\u001b[39margs, \u001b[39m*\u001b[39m\u001b[39m*\u001b[39mkwargs)\n",
      "File \u001b[1;32mc:\\Users\\user\\AppData\\Local\\Programs\\Python\\Python310\\lib\\site-packages\\pandas\\core\\reshape\\concat.py:369\u001b[0m, in \u001b[0;36mconcat\u001b[1;34m(objs, axis, join, ignore_index, keys, levels, names, verify_integrity, sort, copy)\u001b[0m\n\u001b[0;32m    147\u001b[0m \u001b[39m@deprecate_nonkeyword_arguments\u001b[39m(version\u001b[39m=\u001b[39m\u001b[39mNone\u001b[39;00m, allowed_args\u001b[39m=\u001b[39m[\u001b[39m\"\u001b[39m\u001b[39mobjs\u001b[39m\u001b[39m\"\u001b[39m])\n\u001b[0;32m    148\u001b[0m \u001b[39mdef\u001b[39;00m \u001b[39mconcat\u001b[39m(\n\u001b[0;32m    149\u001b[0m     objs: Iterable[NDFrame] \u001b[39m|\u001b[39m Mapping[HashableT, NDFrame],\n\u001b[1;32m   (...)\u001b[0m\n\u001b[0;32m    158\u001b[0m     copy: \u001b[39mbool\u001b[39m \u001b[39m=\u001b[39m \u001b[39mTrue\u001b[39;00m,\n\u001b[0;32m    159\u001b[0m ) \u001b[39m-\u001b[39m\u001b[39m>\u001b[39m DataFrame \u001b[39m|\u001b[39m Series:\n\u001b[0;32m    160\u001b[0m     \u001b[39m\"\"\"\u001b[39;00m\n\u001b[0;32m    161\u001b[0m \u001b[39m    Concatenate pandas objects along a particular axis.\u001b[39;00m\n\u001b[0;32m    162\u001b[0m \n\u001b[1;32m   (...)\u001b[0m\n\u001b[0;32m    367\u001b[0m \u001b[39m    1   3   4\u001b[39;00m\n\u001b[0;32m    368\u001b[0m \u001b[39m    \"\"\"\u001b[39;00m\n\u001b[1;32m--> 369\u001b[0m     op \u001b[39m=\u001b[39m _Concatenator(\n\u001b[0;32m    370\u001b[0m         objs,\n\u001b[0;32m    371\u001b[0m         axis\u001b[39m=\u001b[39;49maxis,\n\u001b[0;32m    372\u001b[0m         ignore_index\u001b[39m=\u001b[39;49mignore_index,\n\u001b[0;32m    373\u001b[0m         join\u001b[39m=\u001b[39;49mjoin,\n\u001b[0;32m    374\u001b[0m         keys\u001b[39m=\u001b[39;49mkeys,\n\u001b[0;32m    375\u001b[0m         levels\u001b[39m=\u001b[39;49mlevels,\n\u001b[0;32m    376\u001b[0m         names\u001b[39m=\u001b[39;49mnames,\n\u001b[0;32m    377\u001b[0m         verify_integrity\u001b[39m=\u001b[39;49mverify_integrity,\n\u001b[0;32m    378\u001b[0m         copy\u001b[39m=\u001b[39;49mcopy,\n\u001b[0;32m    379\u001b[0m         sort\u001b[39m=\u001b[39;49msort,\n\u001b[0;32m    380\u001b[0m     )\n\u001b[0;32m    382\u001b[0m     \u001b[39mreturn\u001b[39;00m op\u001b[39m.\u001b[39mget_result()\n",
      "File \u001b[1;32mc:\\Users\\user\\AppData\\Local\\Programs\\Python\\Python310\\lib\\site-packages\\pandas\\core\\reshape\\concat.py:459\u001b[0m, in \u001b[0;36m_Concatenator.__init__\u001b[1;34m(self, objs, axis, join, keys, levels, names, ignore_index, verify_integrity, copy, sort)\u001b[0m\n\u001b[0;32m    454\u001b[0m     \u001b[39mif\u001b[39;00m \u001b[39mnot\u001b[39;00m \u001b[39misinstance\u001b[39m(obj, (ABCSeries, ABCDataFrame)):\n\u001b[0;32m    455\u001b[0m         msg \u001b[39m=\u001b[39m (\n\u001b[0;32m    456\u001b[0m             \u001b[39mf\u001b[39m\u001b[39m\"\u001b[39m\u001b[39mcannot concatenate object of type \u001b[39m\u001b[39m'\u001b[39m\u001b[39m{\u001b[39;00m\u001b[39mtype\u001b[39m(obj)\u001b[39m}\u001b[39;00m\u001b[39m'\u001b[39m\u001b[39m; \u001b[39m\u001b[39m\"\u001b[39m\n\u001b[0;32m    457\u001b[0m             \u001b[39m\"\u001b[39m\u001b[39monly Series and DataFrame objs are valid\u001b[39m\u001b[39m\"\u001b[39m\n\u001b[0;32m    458\u001b[0m         )\n\u001b[1;32m--> 459\u001b[0m         \u001b[39mraise\u001b[39;00m \u001b[39mTypeError\u001b[39;00m(msg)\n\u001b[0;32m    461\u001b[0m     ndims\u001b[39m.\u001b[39madd(obj\u001b[39m.\u001b[39mndim)\n\u001b[0;32m    463\u001b[0m \u001b[39m# get the sample\u001b[39;00m\n\u001b[0;32m    464\u001b[0m \u001b[39m# want the highest ndim that we have, and must be non-empty\u001b[39;00m\n\u001b[0;32m    465\u001b[0m \u001b[39m# unless all objs are empty\u001b[39;00m\n",
      "\u001b[1;31mTypeError\u001b[0m: cannot concatenate object of type '<class 'int'>'; only Series and DataFrame objs are valid"
     ]
    }
   ],
   "source": [
    "dd = pd.DataFrame(columns=dt_list)\n",
    "print(dd)\n",
    "for r in range(6):\n",
    "    dd.append(r)\n",
    "print(dd)\n"
   ]
  },
  {
   "cell_type": "code",
   "execution_count": 10,
   "metadata": {},
   "outputs": [
    {
     "name": "stdout",
     "output_type": "stream",
     "text": [
      "Nov 29\n"
     ]
    }
   ],
   "source": [
    "date = df_dt.loc[(df_dt['WN_SERIAL NO']==wn) & (df_dt['WEEK_DAY']==wk_no)][['DATE']]\n",
    "print(date.iloc[0,0].strftime('%b %d'))"
   ]
  },
  {
   "cell_type": "code",
   "execution_count": 8,
   "metadata": {},
   "outputs": [
    {
     "name": "stdout",
     "output_type": "stream",
     "text": [
      "[]\n"
     ]
    }
   ],
   "source": [
    "daily_task = list(dfx['TASK_CODE'])\n",
    "print(daily_task)"
   ]
  },
  {
   "cell_type": "code",
   "execution_count": 16,
   "metadata": {},
   "outputs": [
    {
     "name": "stdout",
     "output_type": "stream",
     "text": [
      "['Nov 27', 'Nov 28', 'Nov 29', 'Nov 30', 'Dec 01', 'Dec 02', 'Dec 03']\n"
     ]
    }
   ],
   "source": [
    "from datetime import datetime\n",
    "wn = 420\n",
    "wk_no = 1\n",
    "dt_list = []\n",
    "for wk_no in range(1,8):\n",
    "    date = df_dt.loc[(df_dt['WN_SERIAL NO']==wn) & (df_dt['WEEK_DAY']==wk_no)][['DATE']]\n",
    "    dt_list.append(date.iloc[0,0].strftime('%b %d'))\n",
    "print(dt_list)"
   ]
  },
  {
   "cell_type": "code",
   "execution_count": 21,
   "metadata": {},
   "outputs": [
    {
     "name": "stdout",
     "output_type": "stream",
     "text": [
      "                 TASK_CODE                                TASK_NAME       DATE\n",
      "STD_CODE                                                                      \n",
      "420_2     GMDO-A-221109-03                      바르게 살기 위원회 11월 정기회의 2022-11-28\n",
      "420_2     GMDO-A-221111-01  가을철 낙엽으로 인한 빗물받이 막힘사고 예방 실적 제출_COMPLETE 2022-11-28\n",
      "420_2     GMDO-A-221122-02           빗물받이 주변 낙엽 제거 추진실적 제출_DECLINED 2022-11-28\n",
      "420_2     GMDO-A-221124-01           수해예방 주민 서포터즈 활동 일지 제출_COMPLETE 2022-11-28\n",
      "420_6     GMDO-A-221123-02          공공부문 온실가스, 에너지 목표관리제 에너지 사용량 제출 2022-12-02\n",
      "420_5     GMDO-A-221125-01             업무관리 프로그램 Web Application 개발 2022-12-01\n"
     ]
    }
   ],
   "source": [
    "from datetime import datetime\n",
    "wn = 420\n",
    "wk_no = 3\n",
    "\n",
    "dfx = df_db.loc[df_db['WN_SERIAL NO']==wn][['TASK_CODE','TASK_NAME','STD_CODE','DATE']]\n",
    "dfx.index=dfx['STD_CODE']\n",
    "#print(dfx.columns.get_loc('STD_CODE'))\n",
    "dfx = dfx.drop(columns=['STD_CODE'])\n",
    "print(dfx)"
   ]
  },
  {
   "cell_type": "code",
   "execution_count": 30,
   "metadata": {},
   "outputs": [
    {
     "data": {
      "text/plain": [
       "'Nov 28'"
      ]
     },
     "execution_count": 30,
     "metadata": {},
     "output_type": "execute_result"
    }
   ],
   "source": [
    "dfx['DATE'][1].strftime('%b %d')\n"
   ]
  },
  {
   "cell_type": "code",
   "execution_count": 35,
   "metadata": {},
   "outputs": [
    {
     "name": "stdout",
     "output_type": "stream",
     "text": [
      "['Nov 28', 'Nov 28', 'Nov 28', 'Nov 28', 'Dec 02', 'Dec 01']\n"
     ]
    }
   ],
   "source": [
    "len(dfx)\n",
    "i=0\n",
    "dt_value = []\n",
    "while i < len(dfx):\n",
    "    dt_value.append(dfx['DATE'][i].strftime('%b %d'))\n",
    "    i=i+1\n",
    "print(dt_value)"
   ]
  },
  {
   "cell_type": "code",
   "execution_count": 39,
   "metadata": {},
   "outputs": [
    {
     "ename": "KeyError",
     "evalue": "'Nov 27'",
     "output_type": "error",
     "traceback": [
      "\u001b[1;31m---------------------------------------------------------------------------\u001b[0m",
      "\u001b[1;31mKeyError\u001b[0m                                  Traceback (most recent call last)",
      "\u001b[1;32mc:\\Bitnami\\wampstack-8.1.11-0\\apache2\\htdocs\\PJT_workstation\\code_test.ipynb 셀 13\u001b[0m in \u001b[0;36m<cell line: 2>\u001b[1;34m()\u001b[0m\n\u001b[0;32m      <a href='vscode-notebook-cell:/c%3A/Bitnami/wampstack-8.1.11-0/apache2/htdocs/PJT_workstation/code_test.ipynb#X20sZmlsZQ%3D%3D?line=0'>1</a>\u001b[0m dfx[\u001b[39m'\u001b[39m\u001b[39mdt_value\u001b[39m\u001b[39m'\u001b[39m] \u001b[39m=\u001b[39m dt_value\n\u001b[1;32m----> <a href='vscode-notebook-cell:/c%3A/Bitnami/wampstack-8.1.11-0/apache2/htdocs/PJT_workstation/code_test.ipynb#X20sZmlsZQ%3D%3D?line=1'>2</a>\u001b[0m weekly_plan \u001b[39m=\u001b[39m dfx\u001b[39m.\u001b[39;49mpivot_table(\n\u001b[0;32m      <a href='vscode-notebook-cell:/c%3A/Bitnami/wampstack-8.1.11-0/apache2/htdocs/PJT_workstation/code_test.ipynb#X20sZmlsZQ%3D%3D?line=2'>3</a>\u001b[0m     index \u001b[39m=\u001b[39;49m \u001b[39m'\u001b[39;49m\u001b[39mSTD_CODE\u001b[39;49m\u001b[39m'\u001b[39;49m,\n\u001b[0;32m      <a href='vscode-notebook-cell:/c%3A/Bitnami/wampstack-8.1.11-0/apache2/htdocs/PJT_workstation/code_test.ipynb#X20sZmlsZQ%3D%3D?line=3'>4</a>\u001b[0m     columns \u001b[39m=\u001b[39;49m dt_list\n\u001b[0;32m      <a href='vscode-notebook-cell:/c%3A/Bitnami/wampstack-8.1.11-0/apache2/htdocs/PJT_workstation/code_test.ipynb#X20sZmlsZQ%3D%3D?line=4'>5</a>\u001b[0m     \n\u001b[0;32m      <a href='vscode-notebook-cell:/c%3A/Bitnami/wampstack-8.1.11-0/apache2/htdocs/PJT_workstation/code_test.ipynb#X20sZmlsZQ%3D%3D?line=5'>6</a>\u001b[0m )\n",
      "File \u001b[1;32mc:\\Users\\user\\AppData\\Local\\Programs\\Python\\Python310\\lib\\site-packages\\pandas\\core\\frame.py:8721\u001b[0m, in \u001b[0;36mDataFrame.pivot_table\u001b[1;34m(self, values, index, columns, aggfunc, fill_value, margins, dropna, margins_name, observed, sort)\u001b[0m\n\u001b[0;32m   8704\u001b[0m \u001b[39m@Substitution\u001b[39m(\u001b[39m\"\u001b[39m\u001b[39m\"\u001b[39m)\n\u001b[0;32m   8705\u001b[0m \u001b[39m@Appender\u001b[39m(_shared_docs[\u001b[39m\"\u001b[39m\u001b[39mpivot_table\u001b[39m\u001b[39m\"\u001b[39m])\n\u001b[0;32m   8706\u001b[0m \u001b[39mdef\u001b[39;00m \u001b[39mpivot_table\u001b[39m(\n\u001b[1;32m   (...)\u001b[0m\n\u001b[0;32m   8717\u001b[0m     sort\u001b[39m=\u001b[39m\u001b[39mTrue\u001b[39;00m,\n\u001b[0;32m   8718\u001b[0m ) \u001b[39m-\u001b[39m\u001b[39m>\u001b[39m DataFrame:\n\u001b[0;32m   8719\u001b[0m     \u001b[39mfrom\u001b[39;00m \u001b[39mpandas\u001b[39;00m\u001b[39m.\u001b[39;00m\u001b[39mcore\u001b[39;00m\u001b[39m.\u001b[39;00m\u001b[39mreshape\u001b[39;00m\u001b[39m.\u001b[39;00m\u001b[39mpivot\u001b[39;00m \u001b[39mimport\u001b[39;00m pivot_table\n\u001b[1;32m-> 8721\u001b[0m     \u001b[39mreturn\u001b[39;00m pivot_table(\n\u001b[0;32m   8722\u001b[0m         \u001b[39mself\u001b[39;49m,\n\u001b[0;32m   8723\u001b[0m         values\u001b[39m=\u001b[39;49mvalues,\n\u001b[0;32m   8724\u001b[0m         index\u001b[39m=\u001b[39;49mindex,\n\u001b[0;32m   8725\u001b[0m         columns\u001b[39m=\u001b[39;49mcolumns,\n\u001b[0;32m   8726\u001b[0m         aggfunc\u001b[39m=\u001b[39;49maggfunc,\n\u001b[0;32m   8727\u001b[0m         fill_value\u001b[39m=\u001b[39;49mfill_value,\n\u001b[0;32m   8728\u001b[0m         margins\u001b[39m=\u001b[39;49mmargins,\n\u001b[0;32m   8729\u001b[0m         dropna\u001b[39m=\u001b[39;49mdropna,\n\u001b[0;32m   8730\u001b[0m         margins_name\u001b[39m=\u001b[39;49mmargins_name,\n\u001b[0;32m   8731\u001b[0m         observed\u001b[39m=\u001b[39;49mobserved,\n\u001b[0;32m   8732\u001b[0m         sort\u001b[39m=\u001b[39;49msort,\n\u001b[0;32m   8733\u001b[0m     )\n",
      "File \u001b[1;32mc:\\Users\\user\\AppData\\Local\\Programs\\Python\\Python310\\lib\\site-packages\\pandas\\core\\reshape\\pivot.py:96\u001b[0m, in \u001b[0;36mpivot_table\u001b[1;34m(data, values, index, columns, aggfunc, fill_value, margins, dropna, margins_name, observed, sort)\u001b[0m\n\u001b[0;32m     93\u001b[0m     table \u001b[39m=\u001b[39m concat(pieces, keys\u001b[39m=\u001b[39mkeys, axis\u001b[39m=\u001b[39m\u001b[39m1\u001b[39m)\n\u001b[0;32m     94\u001b[0m     \u001b[39mreturn\u001b[39;00m table\u001b[39m.\u001b[39m__finalize__(data, method\u001b[39m=\u001b[39m\u001b[39m\"\u001b[39m\u001b[39mpivot_table\u001b[39m\u001b[39m\"\u001b[39m)\n\u001b[1;32m---> 96\u001b[0m table \u001b[39m=\u001b[39m __internal_pivot_table(\n\u001b[0;32m     97\u001b[0m     data,\n\u001b[0;32m     98\u001b[0m     values,\n\u001b[0;32m     99\u001b[0m     index,\n\u001b[0;32m    100\u001b[0m     columns,\n\u001b[0;32m    101\u001b[0m     aggfunc,\n\u001b[0;32m    102\u001b[0m     fill_value,\n\u001b[0;32m    103\u001b[0m     margins,\n\u001b[0;32m    104\u001b[0m     dropna,\n\u001b[0;32m    105\u001b[0m     margins_name,\n\u001b[0;32m    106\u001b[0m     observed,\n\u001b[0;32m    107\u001b[0m     sort,\n\u001b[0;32m    108\u001b[0m )\n\u001b[0;32m    109\u001b[0m \u001b[39mreturn\u001b[39;00m table\u001b[39m.\u001b[39m__finalize__(data, method\u001b[39m=\u001b[39m\u001b[39m\"\u001b[39m\u001b[39mpivot_table\u001b[39m\u001b[39m\"\u001b[39m)\n",
      "File \u001b[1;32mc:\\Users\\user\\AppData\\Local\\Programs\\Python\\Python310\\lib\\site-packages\\pandas\\core\\reshape\\pivot.py:165\u001b[0m, in \u001b[0;36m__internal_pivot_table\u001b[1;34m(data, values, index, columns, aggfunc, fill_value, margins, dropna, margins_name, observed, sort)\u001b[0m\n\u001b[0;32m    162\u001b[0m             \u001b[39mpass\u001b[39;00m\n\u001b[0;32m    163\u001b[0m     values \u001b[39m=\u001b[39m \u001b[39mlist\u001b[39m(values)\n\u001b[1;32m--> 165\u001b[0m grouped \u001b[39m=\u001b[39m data\u001b[39m.\u001b[39;49mgroupby(keys, observed\u001b[39m=\u001b[39;49mobserved, sort\u001b[39m=\u001b[39;49msort)\n\u001b[0;32m    166\u001b[0m agged \u001b[39m=\u001b[39m grouped\u001b[39m.\u001b[39magg(aggfunc)\n\u001b[0;32m    167\u001b[0m \u001b[39mif\u001b[39;00m dropna \u001b[39mand\u001b[39;00m \u001b[39misinstance\u001b[39m(agged, ABCDataFrame) \u001b[39mand\u001b[39;00m \u001b[39mlen\u001b[39m(agged\u001b[39m.\u001b[39mcolumns):\n",
      "File \u001b[1;32mc:\\Users\\user\\AppData\\Local\\Programs\\Python\\Python310\\lib\\site-packages\\pandas\\core\\frame.py:8392\u001b[0m, in \u001b[0;36mDataFrame.groupby\u001b[1;34m(self, by, axis, level, as_index, sort, group_keys, squeeze, observed, dropna)\u001b[0m\n\u001b[0;32m   8389\u001b[0m     \u001b[39mraise\u001b[39;00m \u001b[39mTypeError\u001b[39;00m(\u001b[39m\"\u001b[39m\u001b[39mYou have to supply one of \u001b[39m\u001b[39m'\u001b[39m\u001b[39mby\u001b[39m\u001b[39m'\u001b[39m\u001b[39m and \u001b[39m\u001b[39m'\u001b[39m\u001b[39mlevel\u001b[39m\u001b[39m'\u001b[39m\u001b[39m\"\u001b[39m)\n\u001b[0;32m   8390\u001b[0m axis \u001b[39m=\u001b[39m \u001b[39mself\u001b[39m\u001b[39m.\u001b[39m_get_axis_number(axis)\n\u001b[1;32m-> 8392\u001b[0m \u001b[39mreturn\u001b[39;00m DataFrameGroupBy(\n\u001b[0;32m   8393\u001b[0m     obj\u001b[39m=\u001b[39;49m\u001b[39mself\u001b[39;49m,\n\u001b[0;32m   8394\u001b[0m     keys\u001b[39m=\u001b[39;49mby,\n\u001b[0;32m   8395\u001b[0m     axis\u001b[39m=\u001b[39;49maxis,\n\u001b[0;32m   8396\u001b[0m     level\u001b[39m=\u001b[39;49mlevel,\n\u001b[0;32m   8397\u001b[0m     as_index\u001b[39m=\u001b[39;49mas_index,\n\u001b[0;32m   8398\u001b[0m     sort\u001b[39m=\u001b[39;49msort,\n\u001b[0;32m   8399\u001b[0m     group_keys\u001b[39m=\u001b[39;49mgroup_keys,\n\u001b[0;32m   8400\u001b[0m     squeeze\u001b[39m=\u001b[39;49msqueeze,\n\u001b[0;32m   8401\u001b[0m     observed\u001b[39m=\u001b[39;49mobserved,\n\u001b[0;32m   8402\u001b[0m     dropna\u001b[39m=\u001b[39;49mdropna,\n\u001b[0;32m   8403\u001b[0m )\n",
      "File \u001b[1;32mc:\\Users\\user\\AppData\\Local\\Programs\\Python\\Python310\\lib\\site-packages\\pandas\\core\\groupby\\groupby.py:959\u001b[0m, in \u001b[0;36mGroupBy.__init__\u001b[1;34m(self, obj, keys, axis, level, grouper, exclusions, selection, as_index, sort, group_keys, squeeze, observed, mutated, dropna)\u001b[0m\n\u001b[0;32m    956\u001b[0m \u001b[39mif\u001b[39;00m grouper \u001b[39mis\u001b[39;00m \u001b[39mNone\u001b[39;00m:\n\u001b[0;32m    957\u001b[0m     \u001b[39mfrom\u001b[39;00m \u001b[39mpandas\u001b[39;00m\u001b[39m.\u001b[39;00m\u001b[39mcore\u001b[39;00m\u001b[39m.\u001b[39;00m\u001b[39mgroupby\u001b[39;00m\u001b[39m.\u001b[39;00m\u001b[39mgrouper\u001b[39;00m \u001b[39mimport\u001b[39;00m get_grouper\n\u001b[1;32m--> 959\u001b[0m     grouper, exclusions, obj \u001b[39m=\u001b[39m get_grouper(\n\u001b[0;32m    960\u001b[0m         obj,\n\u001b[0;32m    961\u001b[0m         keys,\n\u001b[0;32m    962\u001b[0m         axis\u001b[39m=\u001b[39;49maxis,\n\u001b[0;32m    963\u001b[0m         level\u001b[39m=\u001b[39;49mlevel,\n\u001b[0;32m    964\u001b[0m         sort\u001b[39m=\u001b[39;49msort,\n\u001b[0;32m    965\u001b[0m         observed\u001b[39m=\u001b[39;49mobserved,\n\u001b[0;32m    966\u001b[0m         mutated\u001b[39m=\u001b[39;49m\u001b[39mself\u001b[39;49m\u001b[39m.\u001b[39;49mmutated,\n\u001b[0;32m    967\u001b[0m         dropna\u001b[39m=\u001b[39;49m\u001b[39mself\u001b[39;49m\u001b[39m.\u001b[39;49mdropna,\n\u001b[0;32m    968\u001b[0m     )\n\u001b[0;32m    970\u001b[0m \u001b[39mself\u001b[39m\u001b[39m.\u001b[39mobj \u001b[39m=\u001b[39m obj\n\u001b[0;32m    971\u001b[0m \u001b[39mself\u001b[39m\u001b[39m.\u001b[39maxis \u001b[39m=\u001b[39m obj\u001b[39m.\u001b[39m_get_axis_number(axis)\n",
      "File \u001b[1;32mc:\\Users\\user\\AppData\\Local\\Programs\\Python\\Python310\\lib\\site-packages\\pandas\\core\\groupby\\grouper.py:889\u001b[0m, in \u001b[0;36mget_grouper\u001b[1;34m(obj, key, axis, level, sort, observed, mutated, validate, dropna)\u001b[0m\n\u001b[0;32m    887\u001b[0m         in_axis, level, gpr \u001b[39m=\u001b[39m \u001b[39mFalse\u001b[39;00m, gpr, \u001b[39mNone\u001b[39;00m\n\u001b[0;32m    888\u001b[0m     \u001b[39melse\u001b[39;00m:\n\u001b[1;32m--> 889\u001b[0m         \u001b[39mraise\u001b[39;00m \u001b[39mKeyError\u001b[39;00m(gpr)\n\u001b[0;32m    890\u001b[0m \u001b[39melif\u001b[39;00m \u001b[39misinstance\u001b[39m(gpr, Grouper) \u001b[39mand\u001b[39;00m gpr\u001b[39m.\u001b[39mkey \u001b[39mis\u001b[39;00m \u001b[39mnot\u001b[39;00m \u001b[39mNone\u001b[39;00m:\n\u001b[0;32m    891\u001b[0m     \u001b[39m# Add key to exclusions\u001b[39;00m\n\u001b[0;32m    892\u001b[0m     exclusions\u001b[39m.\u001b[39madd(gpr\u001b[39m.\u001b[39mkey)\n",
      "\u001b[1;31mKeyError\u001b[0m: 'Nov 27'"
     ]
    }
   ],
   "source": [
    "dfx['dt_value'] = dt_value\n",
    "weekly_plan = dfx.pivot_table(\n",
    "    index = 'STD_CODE',\n",
    "    columns = dt_list\n",
    "    \n",
    ")"
   ]
  },
  {
   "cell_type": "code",
   "execution_count": 37,
   "metadata": {},
   "outputs": [
    {
     "name": "stdout",
     "output_type": "stream",
     "text": [
      "                 TASK_CODE                                TASK_NAME  \\\n",
      "STD_CODE                                                              \n",
      "420_2     GMDO-A-221109-03                      바르게 살기 위원회 11월 정기회의   \n",
      "420_2     GMDO-A-221111-01  가을철 낙엽으로 인한 빗물받이 막힘사고 예방 실적 제출_COMPLETE   \n",
      "420_2     GMDO-A-221122-02           빗물받이 주변 낙엽 제거 추진실적 제출_DECLINED   \n",
      "420_2     GMDO-A-221124-01           수해예방 주민 서포터즈 활동 일지 제출_COMPLETE   \n",
      "420_6     GMDO-A-221123-02          공공부문 온실가스, 에너지 목표관리제 에너지 사용량 제출   \n",
      "420_5     GMDO-A-221125-01             업무관리 프로그램 Web Application 개발   \n",
      "\n",
      "               DATE dt_value  \n",
      "STD_CODE                      \n",
      "420_2    2022-11-28   Nov 28  \n",
      "420_2    2022-11-28   Nov 28  \n",
      "420_2    2022-11-28   Nov 28  \n",
      "420_2    2022-11-28   Nov 28  \n",
      "420_6    2022-12-02   Dec 02  \n",
      "420_5    2022-12-01   Dec 01  \n"
     ]
    }
   ],
   "source": [
    "\n",
    "print(dfx)"
   ]
  },
  {
   "cell_type": "code",
   "execution_count": 13,
   "metadata": {},
   "outputs": [
    {
     "name": "stdout",
     "output_type": "stream",
     "text": [
      "0       DECLINE\n",
      "1      COMPLETE\n",
      "2      COMPLETE\n",
      "3      COMPLETE\n",
      "4      COMPLETE\n",
      "         ...   \n",
      "643    ON_GOING\n",
      "644    COMPLETE\n",
      "645    COMPLETE\n",
      "646    ON_GOING\n",
      "647    ON_GOING\n",
      "Name: PROCESS, Length: 648, dtype: object\n"
     ]
    }
   ],
   "source": [
    "#첫번째부터 마지막 열까지 strip하기\n",
    "max_col = 0\n",
    "rows = 0\n",
    "while max_col < df.shape[1]:\n",
    "    a = df.iloc[:,max_col]\n",
    "    while rows < df.shape[0]+1:\n",
    "        a.iloc\n"
   ]
  }
 ],
 "metadata": {
  "kernelspec": {
   "display_name": "Python 3.10.5 64-bit",
   "language": "python",
   "name": "python3"
  },
  "language_info": {
   "codemirror_mode": {
    "name": "ipython",
    "version": 3
   },
   "file_extension": ".py",
   "mimetype": "text/x-python",
   "name": "python",
   "nbconvert_exporter": "python",
   "pygments_lexer": "ipython3",
   "version": "3.10.5"
  },
  "vscode": {
   "interpreter": {
    "hash": "fb4569285eef3a3450cb62085a5b1e0da4bce0af555edc33dcf29baf3acc1368"
   }
  }
 },
 "nbformat": 4,
 "nbformat_minor": 2
}
