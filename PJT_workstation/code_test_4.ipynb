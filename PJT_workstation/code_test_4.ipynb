{
 "cells": [
  {
   "cell_type": "code",
   "execution_count": 13,
   "metadata": {},
   "outputs": [
    {
     "name": "stderr",
     "output_type": "stream",
     "text": [
      "C:\\Users\\user\\AppData\\Local\\Temp\\ipykernel_20692\\3725841922.py:13: SettingWithCopyWarning: \n",
      "A value is trying to be set on a copy of a slice from a DataFrame.\n",
      "Try using .loc[row_indexer,col_indexer] = value instead\n",
      "\n",
      "See the caveats in the documentation: https://pandas.pydata.org/pandas-docs/stable/user_guide/indexing.html#returning-a-view-versus-a-copy\n",
      "  df_dt2['unique_date'] = np.nan\n"
     ]
    }
   ],
   "source": [
    "#모듈 임포트 및 데이터프레임 생성\n",
    "import pandas as pd\n",
    "import numpy as np\n",
    "import datetime\n",
    "\n",
    "df_mt = pd.read_excel('data/maintask.xlsx')\n",
    "df_dt = pd.read_excel('data/date_std.xlsx')\n",
    "df_mt.fillna('', inplace=True)\n",
    "\n",
    "#date DB에서 merge 필요한 column만 추출\n",
    "df_dt2 = df_dt[['DATE', 'WN_SERIAL NO', 'STD_CODE']]\n",
    "#MMM-DD포멧으로 Column 생성하여 붙여넣기\n",
    "df_dt2['unique_date'] = np.nan\n",
    "\n",
    "#mmm-dd형식의 날짜 데이터 생성\n",
    "i=0\n",
    "while i < len(df_dt2):\n",
    "    x = df_dt2.iloc[i,0].strftime('%b %d, %Y') #std 코드에 해당하는 날짜를 가져옴\n",
    "    df_dt2.loc[i,['unique_date']] = x\n",
    "    i+=1\n",
    "\n",
    "#Main Task DB에 날짜 데이터 붙이기\n",
    "df = pd.merge(df_mt, df_dt2, how='left', left_on='DUE DATE', right_on='DATE')\n"
   ]
  },
  {
   "cell_type": "code",
   "execution_count": 15,
   "metadata": {},
   "outputs": [],
   "source": [
    "url_id = 'http://127.0.0.1:81/PJT_workstation/index.py?id='"
   ]
  },
  {
   "cell_type": "code",
   "execution_count": 28,
   "metadata": {},
   "outputs": [],
   "source": [
    "def make_clickable(url, code):\n",
    "    return f'<a href={url}>{code}</a>'\n",
    "    #return f'{url}\" rel=\"noopener noreferrer\" target=\"_blank\">{name}'\n",
    "\n",
    "df['link'] = df.apply(lambda x: make_clickable(url_id+x['TASK_CODE'], x['TASK_CODE']), axis=1)\n"
   ]
  },
  {
   "cell_type": "code",
   "execution_count": 35,
   "metadata": {},
   "outputs": [
    {
     "name": "stdout",
     "output_type": "stream",
     "text": [
      "<table border=\"1\" class=\"dataframe\">\n",
      "  <thead>\n",
      "    <tr style=\"text-align: right;\">\n",
      "      <th></th>\n",
      "      <th>Nov 27, 2022</th>\n",
      "      <th>Nov 28, 2022</th>\n",
      "      <th>Nov 29, 2022</th>\n",
      "      <th>Nov 30, 2022</th>\n",
      "      <th>Dec 01, 2022</th>\n",
      "      <th>Dec 02, 2022</th>\n",
      "      <th>Dec 03, 2022</th>\n",
      "    </tr>\n",
      "  </thead>\n",
      "  <tbody>\n",
      "    <tr>\n",
      "      <th>0</th>\n",
      "      <td>NaN</td>\n",
      "      <td><a href=http://127.0.0.1:81/PJT_workstation/index.py?id=GMDO-A-221109-03>GMDO-A-221109-03</a></td>\n",
      "      <td>NaN</td>\n",
      "      <td>NaN</td>\n",
      "      <td><a href=http://127.0.0.1:81/PJT_workstation/index.py?id=GMDO-A-221125-01>GMDO-A-221125-01</a></td>\n",
      "      <td><a href=http://127.0.0.1:81/PJT_workstation/index.py?id=GMDO-A-221123-02>GMDO-A-221123-02</a></td>\n",
      "      <td>NaN</td>\n",
      "    </tr>\n",
      "    <tr>\n",
      "      <th>1</th>\n",
      "      <td>NaN</td>\n",
      "      <td><a href=http://127.0.0.1:81/PJT_workstation/index.py?id=GMDO-A-221111-01>GMDO-A-221111-01</a></td>\n",
      "      <td>NaN</td>\n",
      "      <td>NaN</td>\n",
      "      <td>NaN</td>\n",
      "      <td>NaN</td>\n",
      "      <td>NaN</td>\n",
      "    </tr>\n",
      "    <tr>\n",
      "      <th>2</th>\n",
      "      <td>NaN</td>\n",
      "      <td><a href=http://127.0.0.1:81/PJT_workstation/index.py?id=GMDO-A-221122-02>GMDO-A-221122-02</a></td>\n",
      "      <td>NaN</td>\n",
      "      <td>NaN</td>\n",
      "      <td>NaN</td>\n",
      "      <td>NaN</td>\n",
      "      <td>NaN</td>\n",
      "    </tr>\n",
      "    <tr>\n",
      "      <th>3</th>\n",
      "      <td>NaN</td>\n",
      "      <td><a href=http://127.0.0.1:81/PJT_workstation/index.py?id=GMDO-A-221124-01>GMDO-A-221124-01</a></td>\n",
      "      <td>NaN</td>\n",
      "      <td>NaN</td>\n",
      "      <td>NaN</td>\n",
      "      <td>NaN</td>\n",
      "      <td>NaN</td>\n",
      "    </tr>\n",
      "    <tr>\n",
      "      <th>4</th>\n",
      "      <td>NaN</td>\n",
      "      <td>NaN</td>\n",
      "      <td>NaN</td>\n",
      "      <td>NaN</td>\n",
      "      <td>NaN</td>\n",
      "      <td>NaN</td>\n",
      "      <td>NaN</td>\n",
      "    </tr>\n",
      "    <tr>\n",
      "      <th>5</th>\n",
      "      <td>NaN</td>\n",
      "      <td>NaN</td>\n",
      "      <td>NaN</td>\n",
      "      <td>NaN</td>\n",
      "      <td>NaN</td>\n",
      "      <td>NaN</td>\n",
      "      <td>NaN</td>\n",
      "    </tr>\n",
      "    <tr>\n",
      "      <th>6</th>\n",
      "      <td>NaN</td>\n",
      "      <td>NaN</td>\n",
      "      <td>NaN</td>\n",
      "      <td>NaN</td>\n",
      "      <td>NaN</td>\n",
      "      <td>NaN</td>\n",
      "      <td>NaN</td>\n",
      "    </tr>\n",
      "  </tbody>\n",
      "</table>\n"
     ]
    }
   ],
   "source": [
    "swn = input('출력할 주차를 선택하세요')\n",
    "\n",
    "#주차에 해당하는 주단위 일정표 Frame 생성(empty)\n",
    "df_thisweek = pd.DataFrame()\n",
    "\n",
    "#wn 지정하고 날짜 리스트 생성\n",
    "def get_cols(wn):\n",
    "    cols = []\n",
    "    wn = str(wn)\n",
    "    for i in range(1,8):\n",
    "        a = wn+'_'+str(i)\n",
    "        x = df_dt.loc[df_dt['STD_CODE']==a,['DATE']]\n",
    "        x2 = x.iloc[0,0].strftime('%b %d, %Y')\n",
    "        cols.append(x2)\n",
    "    return cols\n",
    "\n",
    "#주차 선택하기\n",
    "col_thisweek = get_cols(swn)\n",
    "\n",
    "for day in col_thisweek:\n",
    "    dfs = df.loc[df['unique_date']==day,['link']]  #해당 날짜에 맞는 업무코드를 가져오기 (DataFrame)\n",
    "    dfs.columns = [day] #Column 명 날짜로 변경\n",
    "    dfs.reset_index(drop=True, inplace=True) #기존 인덱스 제거하기\n",
    "    df_thisweek = pd.concat([df_thisweek,dfs], axis=1) #주단위 일정표에 붙이기\n",
    "\n",
    "#빈 인덱스 만큼 Nan으로 합치기\n",
    "lst_num = len(df_thisweek) #현재 데이터 프레임 index 개수 가져오기\n",
    "if lst_num < 6:\n",
    "    while len(df_thisweek) <= 6:\n",
    "        edf = pd.DataFrame(index=[len(df_thisweek)])\n",
    "        df_thisweek = pd.concat([df_thisweek,edf], axis=0)\n",
    "\n",
    "table = df_thisweek.to_html()\n",
    "table = table.replace('&lt;','<')\n",
    "table = table.replace('&gt;','>')\n",
    "print(table)\n"
   ]
  },
  {
   "cell_type": "code",
   "execution_count": 15,
   "metadata": {},
   "outputs": [
    {
     "data": {
      "text/html": [
       "<div>\n",
       "<style scoped>\n",
       "    .dataframe tbody tr th:only-of-type {\n",
       "        vertical-align: middle;\n",
       "    }\n",
       "\n",
       "    .dataframe tbody tr th {\n",
       "        vertical-align: top;\n",
       "    }\n",
       "\n",
       "    .dataframe thead th {\n",
       "        text-align: right;\n",
       "    }\n",
       "</style>\n",
       "<table border=\"1\" class=\"dataframe\">\n",
       "  <thead>\n",
       "    <tr style=\"text-align: right;\">\n",
       "      <th></th>\n",
       "      <th>Nov 27</th>\n",
       "      <th>Nov 28</th>\n",
       "      <th>Nov 29</th>\n",
       "      <th>Nov 30</th>\n",
       "      <th>Dec 01</th>\n",
       "      <th>Dec 02</th>\n",
       "      <th>Dec 03</th>\n",
       "    </tr>\n",
       "  </thead>\n",
       "  <tbody>\n",
       "    <tr>\n",
       "      <th>0</th>\n",
       "      <td>NaN</td>\n",
       "      <td>GMDO-A-221109-03</td>\n",
       "      <td>GMDO-A-211109-01</td>\n",
       "      <td>GMDO-A-211018-01</td>\n",
       "      <td>GMDO-A-211126-04</td>\n",
       "      <td>GMDO-A-211116-05</td>\n",
       "      <td>GMDO-A-211126-05</td>\n",
       "    </tr>\n",
       "    <tr>\n",
       "      <th>1</th>\n",
       "      <td>NaN</td>\n",
       "      <td>GMDO-A-221111-01</td>\n",
       "      <td>GMDO-A-211117-01</td>\n",
       "      <td>GMDO-A-211112-02</td>\n",
       "      <td>GMDO-A-221125-01</td>\n",
       "      <td>GMDO-A-211124-01</td>\n",
       "      <td>GMDO-A-211201-05</td>\n",
       "    </tr>\n",
       "    <tr>\n",
       "      <th>2</th>\n",
       "      <td>NaN</td>\n",
       "      <td>GMDO-A-221122-02</td>\n",
       "      <td>GMDO-A-211122-03</td>\n",
       "      <td>GMDO-A-211126-03</td>\n",
       "      <td>NaN</td>\n",
       "      <td>GMDO-A-221123-02</td>\n",
       "      <td>NaN</td>\n",
       "    </tr>\n",
       "    <tr>\n",
       "      <th>3</th>\n",
       "      <td>NaN</td>\n",
       "      <td>GMDO-A-221124-01</td>\n",
       "      <td>GMDO-A-211126-01</td>\n",
       "      <td>NaN</td>\n",
       "      <td>NaN</td>\n",
       "      <td>NaN</td>\n",
       "      <td>NaN</td>\n",
       "    </tr>\n",
       "    <tr>\n",
       "      <th>4</th>\n",
       "      <td>NaN</td>\n",
       "      <td>NaN</td>\n",
       "      <td>GMDO-A-211126-02</td>\n",
       "      <td>NaN</td>\n",
       "      <td>NaN</td>\n",
       "      <td>NaN</td>\n",
       "      <td>NaN</td>\n",
       "    </tr>\n",
       "    <tr>\n",
       "      <th>5</th>\n",
       "      <td>NaN</td>\n",
       "      <td>NaN</td>\n",
       "      <td>NaN</td>\n",
       "      <td>NaN</td>\n",
       "      <td>NaN</td>\n",
       "      <td>NaN</td>\n",
       "      <td>NaN</td>\n",
       "    </tr>\n",
       "    <tr>\n",
       "      <th>6</th>\n",
       "      <td>NaN</td>\n",
       "      <td>NaN</td>\n",
       "      <td>NaN</td>\n",
       "      <td>NaN</td>\n",
       "      <td>NaN</td>\n",
       "      <td>NaN</td>\n",
       "      <td>NaN</td>\n",
       "    </tr>\n",
       "  </tbody>\n",
       "</table>\n",
       "</div>"
      ],
      "text/plain": [
       "  Nov 27            Nov 28            Nov 29            Nov 30  \\\n",
       "0    NaN  GMDO-A-221109-03  GMDO-A-211109-01  GMDO-A-211018-01   \n",
       "1    NaN  GMDO-A-221111-01  GMDO-A-211117-01  GMDO-A-211112-02   \n",
       "2    NaN  GMDO-A-221122-02  GMDO-A-211122-03  GMDO-A-211126-03   \n",
       "3    NaN  GMDO-A-221124-01  GMDO-A-211126-01               NaN   \n",
       "4    NaN               NaN  GMDO-A-211126-02               NaN   \n",
       "5    NaN               NaN               NaN               NaN   \n",
       "6    NaN               NaN               NaN               NaN   \n",
       "\n",
       "             Dec 01            Dec 02            Dec 03  \n",
       "0  GMDO-A-211126-04  GMDO-A-211116-05  GMDO-A-211126-05  \n",
       "1  GMDO-A-221125-01  GMDO-A-211124-01  GMDO-A-211201-05  \n",
       "2               NaN  GMDO-A-221123-02               NaN  \n",
       "3               NaN               NaN               NaN  \n",
       "4               NaN               NaN               NaN  \n",
       "5               NaN               NaN               NaN  \n",
       "6               NaN               NaN               NaN  "
      ]
     },
     "metadata": {},
     "output_type": "display_data"
    }
   ],
   "source": [
    "lst_num = len(df_thisweek) #현재 데이터 프레임 index 개수 가져오기\n",
    "if lst_num < 6:\n",
    "    edf = pd.DataFrame(index=[lst_num,6])\n",
    "    df_thisweek = pd.concat([df_thisweek,edf], axis=0)\n",
    "display(df_thisweek)"
   ]
  },
  {
   "cell_type": "code",
   "execution_count": 10,
   "metadata": {},
   "outputs": [
    {
     "data": {
      "text/html": [
       "<style type=\"text/css\">\n",
       "</style>\n",
       "<table id=\"T_0c156\">\n",
       "  <thead>\n",
       "    <tr>\n",
       "      <th class=\"blank level0\" >&nbsp;</th>\n",
       "      <th id=\"T_0c156_level0_col0\" class=\"col_heading level0 col0\" >name</th>\n",
       "      <th id=\"T_0c156_level0_col1\" class=\"col_heading level0 col1\" >url</th>\n",
       "    </tr>\n",
       "  </thead>\n",
       "  <tbody>\n",
       "    <tr>\n",
       "      <th id=\"T_0c156_level0_row0\" class=\"row_heading level0 row0\" >0</th>\n",
       "      <td id=\"T_0c156_row0_col0\" class=\"data row0 col0\" >Softhints</td>\n",
       "      <td id=\"T_0c156_row0_col1\" class=\"data row0 col1\" >https://www.softhints.com</td>\n",
       "    </tr>\n",
       "    <tr>\n",
       "      <th id=\"T_0c156_level0_row1\" class=\"row_heading level0 row1\" >1</th>\n",
       "      <td id=\"T_0c156_row1_col0\" class=\"data row1 col0\" >DataScientyst</td>\n",
       "      <td id=\"T_0c156_row1_col1\" class=\"data row1 col1\" >https://datascientyst.com</td>\n",
       "    </tr>\n",
       "  </tbody>\n",
       "</table>\n"
      ],
      "text/plain": [
       "<pandas.io.formats.style.Styler at 0x26c755576a0>"
      ]
     },
     "execution_count": 10,
     "metadata": {},
     "output_type": "execute_result"
    }
   ],
   "source": [
    "from IPython.display import HTML\n",
    "df = pd.DataFrame({\n",
    "    'name':['Softhints', 'DataScientyst'],\n",
    "    'url':['https://www.softhints.com', 'https://datascientyst.com']\n",
    "})\n",
    "df.style"
   ]
  },
  {
   "cell_type": "code",
   "execution_count": 12,
   "metadata": {},
   "outputs": [
    {
     "data": {
      "text/html": [
       "<style type=\"text/css\">\n",
       "</style>\n",
       "<table id=\"T_2124b\">\n",
       "  <thead>\n",
       "    <tr>\n",
       "      <th class=\"blank level0\" >&nbsp;</th>\n",
       "      <th id=\"T_2124b_level0_col0\" class=\"col_heading level0 col0\" >name</th>\n",
       "      <th id=\"T_2124b_level0_col1\" class=\"col_heading level0 col1\" >url</th>\n",
       "      <th id=\"T_2124b_level0_col2\" class=\"col_heading level0 col2\" >link</th>\n",
       "    </tr>\n",
       "  </thead>\n",
       "  <tbody>\n",
       "    <tr>\n",
       "      <th id=\"T_2124b_level0_row0\" class=\"row_heading level0 row0\" >0</th>\n",
       "      <td id=\"T_2124b_row0_col0\" class=\"data row0 col0\" >Softhints</td>\n",
       "      <td id=\"T_2124b_row0_col1\" class=\"data row0 col1\" >https://www.softhints.com</td>\n",
       "      <td id=\"T_2124b_row0_col2\" class=\"data row0 col2\" ><a href=\"https://www.softhints.com\">Softhints</a></td>\n",
       "    </tr>\n",
       "    <tr>\n",
       "      <th id=\"T_2124b_level0_row1\" class=\"row_heading level0 row1\" >1</th>\n",
       "      <td id=\"T_2124b_row1_col0\" class=\"data row1 col0\" >DataScientyst</td>\n",
       "      <td id=\"T_2124b_row1_col1\" class=\"data row1 col1\" >https://datascientyst.com</td>\n",
       "      <td id=\"T_2124b_row1_col2\" class=\"data row1 col2\" ><a href=\"https://datascientyst.com\">DataScientyst</a></td>\n",
       "    </tr>\n",
       "  </tbody>\n",
       "</table>\n"
      ],
      "text/plain": [
       "<pandas.io.formats.style.Styler at 0x26c755560e0>"
      ]
     },
     "execution_count": 12,
     "metadata": {},
     "output_type": "execute_result"
    }
   ],
   "source": [
    "def make_clickable(url, name):\n",
    "    return '<a href=\"{}\">{}</a>'.format(url, name)\n",
    "    #return f'{url}\" rel=\"noopener noreferrer\" target=\"_blank\">{name}'\n",
    "\n",
    "df['link'] = df.apply(lambda x: make_clickable(x['url'], x['name']), axis=1)\n",
    "df.style"
   ]
  },
  {
   "cell_type": "code",
   "execution_count": 32,
   "metadata": {},
   "outputs": [
    {
     "name": "stdout",
     "output_type": "stream",
     "text": [
      "Empty DataFrame\n",
      "Columns: []\n",
      "Index: []\n"
     ]
    }
   ],
   "source": [
    "#주차에 해당하는 주단위 일정표 Frame 생성(empty)\n",
    "df_thisweek = pd.DataFrame()\n",
    "print(df_thisweek)"
   ]
  },
  {
   "cell_type": "code",
   "execution_count": 4,
   "metadata": {},
   "outputs": [
    {
     "name": "stdout",
     "output_type": "stream",
     "text": [
      "['Nov 27', 'Nov 28', 'Nov 29', 'Nov 30', 'Dec 01', 'Dec 02', 'Dec 03']\n"
     ]
    }
   ],
   "source": [
    "#wn 지정하고 날짜 리스트 생성\n",
    "def get_cols(wn):\n",
    "    cols = []\n",
    "    wn = str(wn)\n",
    "    for i in range(1,8):\n",
    "        a = wn+'_'+str(i)\n",
    "        x = df_dt.loc[df_dt['STD_CODE']==a,['DATE']]\n",
    "        x2 = x.iloc[0,0].strftime('%b %d')\n",
    "        cols.append(x2)\n",
    "    return cols\n",
    "\n",
    "col_thisweek = get_cols(420)\n",
    "print(col_thisweek)"
   ]
  },
  {
   "cell_type": "code",
   "execution_count": 24,
   "metadata": {},
   "outputs": [
    {
     "name": "stdout",
     "output_type": "stream",
     "text": [
      "             Nov 28\n",
      "0  GMDO-A-221109-03\n",
      "1  GMDO-A-221111-01\n",
      "2  GMDO-A-221122-02\n",
      "3  GMDO-A-221124-01\n",
      "['Nov 27', 'Nov 28', 'Nov 29', 'Nov 30', 'Dec 01', 'Dec 02', 'Dec 03']\n"
     ]
    }
   ],
   "source": [
    "a= df.loc[df['mmm-dd']==col_thisweek[1],['TASK_CODE']]\n",
    "a.columns = [col_thisweek[1]]\n",
    "a = a.reset_index(drop=True)\n",
    "print(a)\n",
    "print(col_thisweek)\n"
   ]
  },
  {
   "cell_type": "code",
   "execution_count": 33,
   "metadata": {},
   "outputs": [
    {
     "name": "stdout",
     "output_type": "stream",
     "text": [
      "  Nov 27            Nov 28            Nov 29            Nov 30  \\\n",
      "0    NaN  GMDO-A-221109-03  GMDO-A-211109-01  GMDO-A-211018-01   \n",
      "1    NaN  GMDO-A-221111-01  GMDO-A-211117-01  GMDO-A-211112-02   \n",
      "2    NaN  GMDO-A-221122-02  GMDO-A-211122-03  GMDO-A-211126-03   \n",
      "3    NaN  GMDO-A-221124-01  GMDO-A-211126-01               NaN   \n",
      "4    NaN               NaN  GMDO-A-211126-02               NaN   \n",
      "\n",
      "             Dec 01            Dec 02            Dec 03  \n",
      "0  GMDO-A-211126-04  GMDO-A-211116-05  GMDO-A-211126-05  \n",
      "1  GMDO-A-221125-01  GMDO-A-211124-01  GMDO-A-211201-05  \n",
      "2               NaN  GMDO-A-221123-02               NaN  \n",
      "3               NaN               NaN               NaN  \n",
      "4               NaN               NaN               NaN  \n"
     ]
    }
   ],
   "source": [
    "#날짜별로 리스트 가져와서 일정표 프레임에 붙이기.\n",
    "df_thisweek.reset_index(drop=True, inplace=True)\n",
    "for day in col_thisweek:\n",
    "    dfs = df.loc[df['mmm-dd']==day,['TASK_CODE']]  #해당 날짜에 맞는 업무코드를 가져오기 (DataFrame)\n",
    "    dfs.columns = [day] #Column 명 날짜로 변경\n",
    "    dfs.reset_index(drop=True, inplace=True)\n",
    "    df_thisweek = pd.concat([df_thisweek,dfs], axis=1) #주단위 일정표에 붙이기\n",
    "print(df_thisweek)\n",
    "\n"
   ]
  },
  {
   "cell_type": "code",
   "execution_count": 4,
   "metadata": {},
   "outputs": [],
   "source": [
    "try: df\n",
    "except NameError: df = None"
   ]
  },
  {
   "cell_type": "code",
   "execution_count": 8,
   "metadata": {},
   "outputs": [],
   "source": [
    "df = None"
   ]
  },
  {
   "cell_type": "code",
   "execution_count": 10,
   "metadata": {},
   "outputs": [
    {
     "name": "stdout",
     "output_type": "stream",
     "text": [
      "content-type: text/html; charset=euc-kr\n",
      "\n"
     ]
    },
    {
     "name": "stderr",
     "output_type": "stream",
     "text": [
      "c:\\Bitnami\\wampstack-8.1.11-0\\apache2\\htdocs\\PJT_workstation\\set_up.py:17: SettingWithCopyWarning: \n",
      "A value is trying to be set on a copy of a slice from a DataFrame.\n",
      "Try using .loc[row_indexer,col_indexer] = value instead\n",
      "\n",
      "See the caveats in the documentation: https://pandas.pydata.org/pandas-docs/stable/user_guide/indexing.html#returning-a-view-versus-a-copy\n",
      "  df_dt2['unique_date'] = np.nan\n"
     ]
    },
    {
     "name": "stdout",
     "output_type": "stream",
     "text": [
      "   PROCESS         TASK_CODE                              TASK_NAME COVERAGE  \\\n",
      "0  DECLINE  BGTC-B-210222-01             바르게 살기 위원회 월간회의 개최_DECLINE   동 주민센터   \n",
      "1       완료  BGTC-B-210222-02  직능단체 연락처 통합 정리 및 메시지 발송 폼 작성_COMPLETE   동 주민센터   \n",
      "2       완료  CDTC-B-210222-02      민방위 편성 자원 전체 통합 관리 파일 작성_COMPLETE   동 주민센터   \n",
      "3       완료  GTCH-S-210223-02    서울시장 보궐선거 선거인명부 확인 및 구청 방문_COMPLETE      서울시   \n",
      "4       완료  GTCH-S-210223-03              주민센터 4층에서 공보물 작업_COMPLETE      서울시   \n",
      "\n",
      "        PRIORITY   DUE DATE CTG_1  CTG_2  CTG_3 NAME   TEL             HP ETC  \\\n",
      "0       Not Busy 2021-02-23   은평구   주민센터    대조동  선호원  5184  010-3304-0269       \n",
      "1       Not Busy 2021-02-23   은평구   주민센터    대조동  선호원  5184  010-3304-0269       \n",
      "2       Not Busy 2021-02-26   은평구  행정안전국  자치안전과  선호원  5184  010-3304-0269       \n",
      "3  Prior Concern 2021-03-20   은평구  구청 직할  의회사무국  선관위     -              -       \n",
      "4  Prior Concern 2021-03-27   은평구  구청 직할  의회사무국  선관위     -              -       \n",
      "\n",
      "  OFFICIAL_DOCS_NO         RECORD_TIME       DATE  WN_SERIAL NO STD_CODE  \\\n",
      "0                  2021-02-22 16:43:22 2021-02-23           327    327_3   \n",
      "1                  2021-02-22 16:50:22 2021-02-23           327    327_3   \n",
      "2                  2021-02-22 17:30:02 2021-02-26           327    327_6   \n",
      "3                  2021-02-23 11:22:45 2021-03-20           330    330_7   \n",
      "4                  2021-02-23 11:24:28 2021-03-27           331    331_7   \n",
      "\n",
      "    unique_date  \n",
      "0  Feb 23, 2021  \n",
      "1  Feb 23, 2021  \n",
      "2  Feb 26, 2021  \n",
      "3  Mar 20, 2021  \n",
      "4  Mar 27, 2021  \n"
     ]
    }
   ],
   "source": [
    "import set_up\n",
    "\n",
    "try: df\n",
    "except NameError: df = None\n",
    "\n",
    "if df is None:\n",
    "    df = set_up.dbsetting()\n",
    "\n",
    "print(df.head(5))"
   ]
  }
 ],
 "metadata": {
  "kernelspec": {
   "display_name": "Python 3.10.5 64-bit",
   "language": "python",
   "name": "python3"
  },
  "language_info": {
   "codemirror_mode": {
    "name": "ipython",
    "version": 3
   },
   "file_extension": ".py",
   "mimetype": "text/x-python",
   "name": "python",
   "nbconvert_exporter": "python",
   "pygments_lexer": "ipython3",
   "version": "3.10.5"
  },
  "vscode": {
   "interpreter": {
    "hash": "fb4569285eef3a3450cb62085a5b1e0da4bce0af555edc33dcf29baf3acc1368"
   }
  }
 },
 "nbformat": 4,
 "nbformat_minor": 2
}
