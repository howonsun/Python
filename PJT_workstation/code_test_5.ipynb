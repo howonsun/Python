{
 "cells": [
  {
   "cell_type": "code",
   "execution_count": 38,
   "metadata": {},
   "outputs": [],
   "source": [
    "import pandas as pd\n",
    "import datetime\n",
    "\n",
    "df = pd.read_excel('data/maintask.xlsx')\n",
    "df_dt = pd.read_excel('data/date_std.xlsx')\n",
    "df.fillna('', inplace=True)\n",
    "\n",
    "url_id = 'http://127.0.0.1:81/PJT_workstation/index.py?id='\n",
    "def make_clickable(url, code):\n",
    "    return '<a href=\"{}\" rel=\"noopener noreferrer\" target=\"_blank\">{}</a>'.format(url, code)\n",
    "df['link'] = df.apply(lambda x: make_clickable(url_id+x['TASK_CODE'], x['TASK_CODE']), axis=1)"
   ]
  },
  {
   "cell_type": "code",
   "execution_count": 49,
   "metadata": {},
   "outputs": [
    {
     "name": "stdout",
     "output_type": "stream",
     "text": [
      "0     408\n",
      "1     408\n",
      "2     408\n",
      "3     408\n",
      "4     408\n",
      "5     408\n",
      "6     408\n",
      "7     408\n",
      "8     408\n",
      "9     409\n",
      "10    409\n",
      "11    409\n",
      "12    409\n",
      "13    409\n",
      "14    409\n",
      "15    410\n",
      "16    411\n",
      "17    411\n",
      "18    411\n",
      "19    411\n",
      "20    411\n",
      "21    411\n",
      "22    411\n",
      "23    412\n",
      "24    412\n",
      "25    412\n",
      "Name: WN_SERIAL NO, dtype: int64\n"
     ]
    }
   ],
   "source": [
    "\n",
    "def get_db(wkn):\n",
    "    dfs = pd.DataFrame()\n",
    "    wkn_list = []\n",
    "    i = wkn-2\n",
    "    while i < (wkn+3):\n",
    "        df_new = df.loc[df['WN_SERIAL NO']==i]\n",
    "        dfs = pd.concat([dfs,df_new], ignore_index=True)\n",
    "        i = i + 1\n",
    "    return dfs\n",
    "\n",
    "print(get_db(410)['WN_SERIAL NO'])\n"
   ]
  },
  {
   "cell_type": "code",
   "execution_count": 43,
   "metadata": {},
   "outputs": [
    {
     "name": "stdout",
     "output_type": "stream",
     "text": [
      "['2022, Sep-18', '2022, Sep-19', '2022, Sep-20', '2022, Sep-21', '2022, Sep-22', '2022, Sep-23', '2022, Sep-24']\n"
     ]
    }
   ],
   "source": [
    "dt = df_dt.loc[df_dt['WN_SERIAL NO']==410,['Field','WN_SERIAL NO']]\n",
    "\n",
    "print(dt['Field'].to_list())"
   ]
  },
  {
   "cell_type": "code",
   "execution_count": 50,
   "metadata": {},
   "outputs": [
    {
     "name": "stdout",
     "output_type": "stream",
     "text": [
      "Empty DataFrame\n",
      "Columns: [PROCESS, TASK_CODE, TASK_NAME, COVERAGE, PRIORITY, DUE DATE, CTG_1, CTG_2, CTG_3, NAME, TEL, HP, ETC, OFFICIAL_DOCS_NO, RECORD_TIME, WN_SERIAL NO, STD_CODE, df_field, link]\n",
      "Index: []\n"
     ]
    }
   ],
   "source": [
    "df_new = df.loc[df['WN_SERIAL NO']==500]\n",
    "print(df_new)"
   ]
  }
 ],
 "metadata": {
  "kernelspec": {
   "display_name": "Python 3.10.5 64-bit",
   "language": "python",
   "name": "python3"
  },
  "language_info": {
   "codemirror_mode": {
    "name": "ipython",
    "version": 3
   },
   "file_extension": ".py",
   "mimetype": "text/x-python",
   "name": "python",
   "nbconvert_exporter": "python",
   "pygments_lexer": "ipython3",
   "version": "3.10.5"
  },
  "vscode": {
   "interpreter": {
    "hash": "fb4569285eef3a3450cb62085a5b1e0da4bce0af555edc33dcf29baf3acc1368"
   }
  }
 },
 "nbformat": 4,
 "nbformat_minor": 2
}
